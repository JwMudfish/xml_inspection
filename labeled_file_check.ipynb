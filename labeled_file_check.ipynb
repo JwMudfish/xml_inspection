{
 "cells": [
  {
   "cell_type": "markdown",
   "metadata": {},
   "source": [
    "### 기능\n",
    "- 잘못된 라벨 네이밍 확인\n",
    "- xml 파일 숫자 확인 - 가능\n",
    "\n",
    "- 라벨 count (pair) - 가능\n",
    "- 박스 면적 확인 (pair)\n",
    "\n",
    "- 라벨명, 라밸 숫자가 동일해야함 (pair)\n",
    "\n",
    "\n"
   ]
  },
  {
   "cell_type": "code",
   "execution_count": 113,
   "metadata": {},
   "outputs": [
    {
     "name": "stdout",
     "output_type": "stream",
     "text": [
      "1.fault label name checking...\n",
      "done !!\n",
      "-------------------------------------------------------------------\n",
      "2. file counting....\n",
      " >> The number of files is different. Please check again !! <<\n",
      "There is no files in label_1 :  {'11_11192019_11_14_14.xml'}\n"
     ]
    }
   ],
   "source": [
    "import xml.etree.ElementTree as ET\n",
    "import os\n",
    "import glob\n",
    "\n",
    "root_path = \"xml\"\n",
    "label_path = './data'\n",
    "xml_dir_list = os.listdir(root_path)\n",
    "\n",
    "f = open(label_path + '/predefined_classes.txt', 'r')\n",
    "labels = f.readlines()\n",
    "f.close()\n",
    "\n",
    "label_list = []\n",
    "for label in labels:\n",
    "    label = str(label.replace('\\n',''))\n",
    "    label_list.append(label)\n",
    "\n",
    "#xml_list = sorted(os.listdir(root_path))\n",
    "xml_list = glob.glob('./xml/*/*')\n",
    "\n",
    "def check_xml():\n",
    "    print(\"1.fault label name checking...\")\n",
    "    for xml_file in xml_list:\n",
    "        #xml_path = os.path.join(root_path,xml_file)\n",
    "        # parse xml file\n",
    "        tree = ET.parse(xml_file)\n",
    "        # get root node\n",
    "        root = tree.getroot()\n",
    "        # get object tag\n",
    "        for object in root.iter(\"object\"):\n",
    "            # find value of name\n",
    "            name = object.findtext(\"name\")\n",
    "            if not name in label_list:\n",
    "                print(name, xml_file)\n",
    "    print(\"done !!\")\n",
    "    print('-------------------------------------------------------------------')\n",
    "    \n",
    "def change_xml():\n",
    "    for xml_file in xml_list:\n",
    "        xml_path = os.path.join(root_path,xml_file)\n",
    "        # parse xml file\n",
    "        tree = ET.parse(xml_path)\n",
    "        # get root node\n",
    "        root = tree.getroot()\n",
    "        for elem in root.getiterator():\n",
    "            elem.text = elem.text.replace('person', 'Person')\n",
    "            elem.text = elem.text.replace('fullbasket', 'FullBasket')\n",
    "            elem.text = elem.text.replace('emptybasket', 'EmptyBasket')\n",
    "        tree.write(xml_path)\n",
    "        print(\"done : \" + xml_path)\n",
    "        \n",
    "''' \n",
    "폴더가 많아졌을 때 사용..\n",
    "\n",
    "def count_files():\n",
    "    print('2. file counting....')\n",
    "    file_cnt = []\n",
    "    for i in xml_dir_list:\n",
    "        file_dir = os.path.join(root_path,i)\n",
    "        files = os.listdir(file_dir)\n",
    "        file_cnt.append(len(files))\n",
    "        print(file_dir,' : ', len(files))\n",
    "\n",
    "    if len(set(file_cnt)) == 1:\n",
    "        print('2. The number of files is the same !!')\n",
    "    else:\n",
    "        print('2. The number of files is different. Please check again !!')\n",
    "'''        \n",
    "\n",
    "def count_files():\n",
    "    \n",
    "    print('2. file counting....')\n",
    "    \n",
    "    labels_1 = os.listdir(os.path.join(root_path,xml_dir_list[0]))\n",
    "    labels_2 = os.listdir(os.path.join(root_path,xml_dir_list[1]))\n",
    "    \n",
    "    if labels_1 == labels_2:\n",
    "            print('The number of files is the same !!')\n",
    "    else:\n",
    "        print(' >> The number of files is different. Please check again !! <<')\n",
    "        \n",
    "        if len(labels_1) > len(labels_2):\n",
    "            print('There is no files in label_2 : ', set(labels_1) - set(labels_2))\n",
    "        else:\n",
    "            print('There is no files in label_1 : ', set(labels_2) - set(labels_1))\n",
    "        \n",
    "        \n",
    "check_xml()\n",
    "count_files()"
   ]
  },
  {
   "cell_type": "markdown",
   "metadata": {},
   "source": [
    "---"
   ]
  },
  {
   "cell_type": "markdown",
   "metadata": {},
   "source": [
    "xml 파일 숫자 확인\n",
    "- 만약 1000장 이미지 작업을 500장 500장 2팀으로 4명이 작업한다면?"
   ]
  },
  {
   "cell_type": "markdown",
   "metadata": {},
   "source": [
    "---"
   ]
  },
  {
   "cell_type": "markdown",
   "metadata": {},
   "source": [
    "라벨 count (pair)"
   ]
  },
  {
   "cell_type": "code",
   "execution_count": 65,
   "metadata": {},
   "outputs": [
    {
     "data": {
      "text/plain": [
       "['11_11192019_18_14_04.xml',\n",
       " '11_11192019_19_08_52.xml',\n",
       " '11_11192019_16_19_54.xml',\n",
       " '11_11192019_11_14_14.xml',\n",
       " '11_11192019_13_06_12.xml']"
      ]
     },
     "execution_count": 65,
     "metadata": {},
     "output_type": "execute_result"
    }
   ],
   "source": [
    "files"
   ]
  },
  {
   "cell_type": "code",
   "execution_count": 127,
   "metadata": {},
   "outputs": [
    {
     "name": "stdout",
     "output_type": "stream",
     "text": [
      "<Element 'object' at 0x7f12847e9778>\n",
      "<Element 'object' at 0x7f12847e9a98>\n"
     ]
    }
   ],
   "source": [
    "tree = ET.parse(xf)\n",
    "# get root node\n",
    "root = tree.getroot()\n",
    "# get object tag\n",
    "for object in root.iter(\"object\"):\n",
    "# find value of name\n",
    "    print(object)\n",
    "    #name = object.find"
   ]
  },
  {
   "cell_type": "code",
   "execution_count": 129,
   "metadata": {},
   "outputs": [
    {
     "data": {
      "text/plain": [
       "[<Element 'name' at 0x7f12847e9ae8>]"
      ]
     },
     "execution_count": 129,
     "metadata": {},
     "output_type": "execute_result"
    }
   ],
   "source": [
    "object.findall('name')"
   ]
  },
  {
   "cell_type": "code",
   "execution_count": 123,
   "metadata": {},
   "outputs": [],
   "source": [
    "xf = os.path.join(root_path,'labels_1' ,files[3])"
   ]
  },
  {
   "cell_type": "code",
   "execution_count": 124,
   "metadata": {},
   "outputs": [
    {
     "data": {
      "text/plain": [
       "'xml/labels_1/11_11192019_11_14_14.xml'"
      ]
     },
     "execution_count": 124,
     "metadata": {},
     "output_type": "execute_result"
    }
   ],
   "source": [
    "xf"
   ]
  },
  {
   "cell_type": "code",
   "execution_count": 102,
   "metadata": {},
   "outputs": [],
   "source": [
    "labels_1 = os.listdir(os.path.join(root_path,xml_dir_list[0]))"
   ]
  },
  {
   "cell_type": "code",
   "execution_count": 103,
   "metadata": {},
   "outputs": [],
   "source": [
    "labels_2 = os.listdir(os.path.join(root_path,xml_dir_list[1]))"
   ]
  },
  {
   "cell_type": "code",
   "execution_count": null,
   "metadata": {},
   "outputs": [],
   "source": []
  },
  {
   "cell_type": "code",
   "execution_count": 131,
   "metadata": {},
   "outputs": [
    {
     "data": {
      "text/plain": [
       "2"
      ]
     },
     "execution_count": 131,
     "metadata": {},
     "output_type": "execute_result"
    }
   ],
   "source": [
    "labels_1\n",
    "root.findall('object')"
   ]
  },
  {
   "cell_type": "code",
   "execution_count": 132,
   "metadata": {},
   "outputs": [
    {
     "data": {
      "text/plain": [
       "['11_11192019_18_14_04.xml',\n",
       " '11_11192019_19_08_52.xml',\n",
       " '11_11192019_16_19_54.xml',\n",
       " '11_11192019_11_14_14.xml',\n",
       " '11_11192019_13_06_12.xml']"
      ]
     },
     "execution_count": 132,
     "metadata": {},
     "output_type": "execute_result"
    }
   ],
   "source": [
    "files"
   ]
  },
  {
   "cell_type": "code",
   "execution_count": null,
   "metadata": {},
   "outputs": [],
   "source": []
  }
 ],
 "metadata": {
  "kernelspec": {
   "display_name": "Python 3",
   "language": "python",
   "name": "python3"
  },
  "language_info": {
   "codemirror_mode": {
    "name": "ipython",
    "version": 3
   },
   "file_extension": ".py",
   "mimetype": "text/x-python",
   "name": "python",
   "nbconvert_exporter": "python",
   "pygments_lexer": "ipython3",
   "version": "3.6.8"
  },
  "toc": {
   "base_numbering": 1,
   "nav_menu": {},
   "number_sections": true,
   "sideBar": true,
   "skip_h1_title": false,
   "title_cell": "Table of Contents",
   "title_sidebar": "Contents",
   "toc_cell": false,
   "toc_position": {},
   "toc_section_display": true,
   "toc_window_display": false
  },
  "varInspector": {
   "cols": {
    "lenName": 16,
    "lenType": 16,
    "lenVar": 40
   },
   "kernels_config": {
    "python": {
     "delete_cmd_postfix": "",
     "delete_cmd_prefix": "del ",
     "library": "var_list.py",
     "varRefreshCmd": "print(var_dic_list())"
    },
    "r": {
     "delete_cmd_postfix": ") ",
     "delete_cmd_prefix": "rm(",
     "library": "var_list.r",
     "varRefreshCmd": "cat(var_dic_list()) "
    }
   },
   "types_to_exclude": [
    "module",
    "function",
    "builtin_function_or_method",
    "instance",
    "_Feature"
   ],
   "window_display": false
  }
 },
 "nbformat": 4,
 "nbformat_minor": 2
}
