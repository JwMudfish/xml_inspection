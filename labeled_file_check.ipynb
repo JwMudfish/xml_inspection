{
 "cells": [
  {
   "cell_type": "markdown",
   "metadata": {},
   "source": [
    "### 기능\n",
    "- 잘못된 라벨 네이밍 확인\n",
    "- xml 파일 숫자 확인 - 가능\n",
    "\n",
    "- 라벨 count (pair) - 가능\n",
    "- 박스 면적 확인 (pair)\n",
    "\n",
    "- 라벨명, 라밸 숫자가 동일해야함 (pair)\n",
    "\n",
    "\n"
   ]
  },
  {
   "cell_type": "code",
   "execution_count": 77,
   "metadata": {},
   "outputs": [
    {
     "name": "stdout",
     "output_type": "stream",
     "text": [
      "3. object counting....\n",
      "done !!\n",
      "-------------------------------------------------------------------\n"
     ]
    }
   ],
   "source": [
    "import xml.etree.ElementTree as ET\n",
    "from xml.dom import minidom\n",
    "import os\n",
    "import glob\n",
    "\n",
    "root_path = \"xml\"\n",
    "label_path = './data'\n",
    "xml_dir_list = os.listdir(root_path)\n",
    "\n",
    "\n",
    "f = open(label_path + '/predefined_classes.txt', 'r')\n",
    "labels = f.readlines()\n",
    "f.close()\n",
    "\n",
    "label_list = []\n",
    "for label in labels:\n",
    "    label = str(label.replace('\\n',''))\n",
    "    label_list.append(label)\n",
    "\n",
    "labels_1 = os.listdir(os.path.join(root_path,xml_dir_list[0]))\n",
    "labels_2 = os.listdir(os.path.join(root_path,xml_dir_list[1]))\n",
    "\n",
    "\n",
    "#xml_list = sorted(os.listdir(root_path))\n",
    "xml_list = glob.glob('./xml/*/*')\n",
    "\n",
    "\n",
    "\n",
    "def get_root(file_path):\n",
    "    tree = ET.parse(file_path)\n",
    "    root = tree.getroot()\n",
    "    return root\n",
    "\n",
    "\n",
    "def check_xml():\n",
    "    print(\"1.fault label name checking...\")\n",
    "    for xml_file in xml_list:\n",
    "        #xml_path = os.path.join(root_path,xml_file)\n",
    "        # parse xml file\n",
    "        tree = ET.parse(xml_file)\n",
    "        # get root node\n",
    "        root = tree.getroot()\n",
    "        # get object tag\n",
    "        for object in root.iter(\"object\"):\n",
    "            # find value of name\n",
    "            name = object.findtext(\"name\")\n",
    "            if not name in label_list:\n",
    "                print(name, xml_file)\n",
    "    print(\"done !!\")\n",
    "    print('-------------------------------------------------------------------')\n",
    "    \n",
    "def change_xml():\n",
    "    for xml_file in xml_list:\n",
    "        xml_path = os.path.join(root_path,xml_file)\n",
    "        # parse xml file\n",
    "        tree = ET.parse(xml_path)\n",
    "        # get root node\n",
    "        root = tree.getroot()\n",
    "        for elem in root.getiterator():\n",
    "            elem.text = elem.text.replace('person', 'Person')\n",
    "            elem.text = elem.text.replace('fullbasket', 'FullBasket')\n",
    "            elem.text = elem.text.replace('emptybasket', 'EmptyBasket')\n",
    "        tree.write(xml_path)\n",
    "        print(\"done : \" + xml_path)\n",
    "        \n",
    "''' \n",
    "폴더가 많아졌을 때 사용..\n",
    "\n",
    "def count_files():\n",
    "    print('2. file counting....')\n",
    "    file_cnt = []\n",
    "    for i in xml_dir_list:\n",
    "        file_dir = os.path.join(root_path,i)\n",
    "        files = os.listdir(file_dir)\n",
    "        file_cnt.append(len(files))\n",
    "        print(file_dir,' : ', len(files))\n",
    "\n",
    "    if len(set(file_cnt)) == 1:\n",
    "        print('2. The number of files is the same !!')\n",
    "    else:\n",
    "        print('2. The number of files is different. Please check again !!')\n",
    "'''        \n",
    "\n",
    "# 라벨1, 라벨2 파일 개수 확인 (파일 개수 다를 시, 확인해야 하는 파일명 출력)\n",
    "def count_files():\n",
    "    \n",
    "    print('2. file counting....')\n",
    "    \n",
    "#    labels_1 = os.listdir(os.path.join(root_path,xml_dir_list[0]))\n",
    "#    labels_2 = os.listdir(os.path.join(root_path,xml_dir_list[1]))\n",
    "    \n",
    "    if labels_1 == labels_2:\n",
    "            print('The number of label files is the same !!')\n",
    "    else:\n",
    "        print(' >> The number of label files is different. Please check again !! <<')\n",
    "        \n",
    "        if len(labels_1) > len(labels_2):\n",
    "            print('There is no files in label_2 : ', set(labels_1) - set(labels_2))\n",
    "        else:\n",
    "            print('There is no files in label_1 : ', set(labels_2) - set(labels_1))\n",
    "\n",
    "# object 개수 비교\n",
    "def compare_object_count():\n",
    "\n",
    "    print('3. object counting....')\n",
    "\n",
    "    if len(labels_1) > len(labels_2):\n",
    "        files_list = os.listdir(os.path.join(root_path,xml_dir_list[1]))\n",
    "    else:\n",
    "        files_list = os.listdir(os.path.join(root_path,xml_dir_list[0]))\n",
    "\n",
    "    for file in files_list:\n",
    "        compare_labels_1 = os.path.join(root_path,xml_dir_list[0],file)\n",
    "        root_1 = get_root(compare_labels_1)\n",
    "        obj_cnt_1 = len(root_1.findall('object'))\n",
    "\n",
    "\n",
    "        compare_labels_2 = os.path.join(root_path,xml_dir_list[1],file)\n",
    "        root_2 = get_root(compare_labels_2)\n",
    "        obj_cnt_2 = len(root_2.findall('object'))\n",
    "\n",
    "        if obj_cnt_1 == obj_cnt_2:\n",
    "          #  print('The number of label and image files is the same !!')\n",
    "            pass\n",
    "        else:\n",
    "            print('Objects are different!! - {}'.format(file))\n",
    "\n",
    "    print(\"done !!\")\n",
    "    print('-------------------------------------------------------------------')\n",
    "        \n",
    "#check_xml()\n",
    "#count_files()\n",
    "compare_object_count()"
   ]
  },
  {
   "cell_type": "markdown",
   "metadata": {},
   "source": [
    "---"
   ]
  },
  {
   "cell_type": "markdown",
   "metadata": {},
   "source": [
    "xml 파일 숫자 확인\n",
    "- 만약 1000장 이미지 작업을 500장 500장 2팀으로 4명이 작업한다면?"
   ]
  },
  {
   "cell_type": "markdown",
   "metadata": {},
   "source": [
    "---"
   ]
  },
  {
   "cell_type": "markdown",
   "metadata": {},
   "source": [
    "라벨 count (pair)"
   ]
  },
  {
   "cell_type": "markdown",
   "metadata": {},
   "source": [
    "xml 비교"
   ]
  },
  {
   "cell_type": "markdown",
   "metadata": {},
   "source": [
    "object 개수 비교"
   ]
  },
  {
   "cell_type": "markdown",
   "metadata": {},
   "source": [
    "---"
   ]
  },
  {
   "cell_type": "markdown",
   "metadata": {},
   "source": [
    "이미지 수 - 라벨 수 비교"
   ]
  },
  {
   "cell_type": "code",
   "execution_count": null,
   "metadata": {},
   "outputs": [],
   "source": [
    "# 라벨1, 라벨2 파일 개수 확인 (파일 개수 다를 시, 확인해야 하는 파일명 출력)\n",
    "def count_files():\n",
    "    \n",
    "    print('2. file counting....')\n",
    "    \n",
    "#    labels_1 = os.listdir(os.path.join(root_path,xml_dir_list[0]))\n",
    "#    labels_2 = os.listdir(os.path.join(root_path,xml_dir_list[1]))\n",
    "    \n",
    "    if labels_1 == labels_2:\n",
    "            print('The number of label files is the same !!')\n",
    "    else:\n",
    "        print(' >> The number of label files is different. Please check again !! <<')\n",
    "        \n",
    "        if len(labels_1) > len(labels_2):\n",
    "            print('There is no files in label_2 : ', set(labels_1) - set(labels_2))\n",
    "        else:\n",
    "            print('There is no files in label_1 : ', set(labels_2) - set(labels_1))"
   ]
  },
  {
   "cell_type": "code",
   "execution_count": null,
   "metadata": {},
   "outputs": [],
   "source": []
  },
  {
   "cell_type": "code",
   "execution_count": null,
   "metadata": {},
   "outputs": [],
   "source": []
  },
  {
   "cell_type": "code",
   "execution_count": 74,
   "metadata": {},
   "outputs": [],
   "source": [
    "# bnd box intersection 비교\n",
    "from xml.dom import minidom\n",
    "\n",
    "def compare_bndbox_iou():\n",
    "\n",
    "    print('compare bndbox iou....')\n",
    "\n",
    "    if len(labels_1) > len(labels_2):\n",
    "        files_list = os.listdir(os.path.join(root_path,xml_dir_list[1]))\n",
    "    else:\n",
    "        files_list = os.listdir(os.path.join(root_path,xml_dir_list[0]))\n",
    "\n",
    "    for file in files_list:\n",
    "\n",
    "        \n",
    "        \n",
    "        \n",
    "        \n",
    "        \n",
    "    print(\"done !!\")\n",
    "    print('-------------------------------------------------------------------')\n",
    "        "
   ]
  },
  {
   "cell_type": "code",
   "execution_count": 111,
   "metadata": {},
   "outputs": [],
   "source": [
    "file = '11_11192019_11_14_14.xml'"
   ]
  },
  {
   "cell_type": "code",
   "execution_count": 79,
   "metadata": {},
   "outputs": [],
   "source": [
    "from xml.dom import minidom"
   ]
  },
  {
   "cell_type": "code",
   "execution_count": 112,
   "metadata": {},
   "outputs": [
    {
     "name": "stdout",
     "output_type": "stream",
     "text": [
      "a:  319 245 1034 1218\n",
      "b:  550 468 2227 2160\n",
      "a:  592 483 2155 2160\n",
      "b:  304 264 1127 1233\n",
      "a:  676.5 731.5\n",
      "b:  1388.5 1314.0\n",
      "a:  676.5 731.5\n",
      "b:  715.5 748.5\n",
      "[712.0, 39.0]\n",
      "[582.5, 17.0]\n",
      "0 1\n",
      "a:  1373.5 1321.5\n",
      "b:  715.5 748.5\n",
      "a:  1373.5 1321.5\n",
      "b:  1388.5 1314.0\n",
      "[658.0, 15.0]\n",
      "[573.0, 7.5]\n",
      "1 1\n"
     ]
    }
   ],
   "source": [
    "compare_labels_1 = os.path.join(root_path,xml_dir_list[0],file)\n",
    "compare_labels_2 = os.path.join(root_path,xml_dir_list[1],file)\n",
    "#root = get_root(compare_labels_1)\n",
    "\n",
    "root_1 = minidom.parse(compare_labels_1)\n",
    "bnd_1 = root_1.getElementsByTagName('bndbox')\n",
    "\n",
    "\n",
    "root_2 = minidom.parse(compare_labels_2)\n",
    "bnd_2 = root_2.getElementsByTagName('bndbox')\n",
    "\n",
    "###########################################################\n",
    "\n",
    "result_a = {}\n",
    "result_b = {}\n",
    "for i in range(len(bnd_1)):\n",
    "    xmin_a = int(bnd_1[i].childNodes[1].childNodes[0].nodeValue)\n",
    "    ymin_a = int(bnd_1[i].childNodes[3].childNodes[0].nodeValue)\n",
    "    xmax_a = int(bnd_1[i].childNodes[5].childNodes[0].nodeValue)\n",
    "    ymax_a = int(bnd_1[i].childNodes[7].childNodes[0].nodeValue)\n",
    "    print('a: ', xmin_a, ymin_a, xmax_a, ymax_a)\n",
    "    xmean_a = (xmin_a + xmax_a)/2\n",
    "    ymean_a = (ymin_a + ymax_a)/2\n",
    "    result_a[i] = [(xmean_a,ymean_a), xmin_a, ymin_a, xmax_a, ymax_a]\n",
    "    \n",
    "    xmin_b = int(bnd_2[i].childNodes[1].childNodes[0].nodeValue)\n",
    "    ymin_b = int(bnd_2[i].childNodes[3].childNodes[0].nodeValue)\n",
    "    xmax_b = int(bnd_2[i].childNodes[5].childNodes[0].nodeValue)\n",
    "    ymax_b = int(bnd_2[i].childNodes[7].childNodes[0].nodeValue)\n",
    "    print('b: ', xmin_b, ymin_b, xmax_b, ymax_b)\n",
    "    xmean_b = (xmin_b + xmax_b)/2\n",
    "    ymean_b = (ymin_b + ymax_b)/2\n",
    "    result_b[i] = [(xmean_b,ymean_b), xmin_b, ymin_b, xmax_b, ymax_b]\n",
    "\n",
    "##############################################################\n",
    "    \n",
    "for i in range(len(result_a)):\n",
    "    # a[i]랑 비교\n",
    "    diff_x = []\n",
    "    diff_y = []\n",
    "    for j in range(len(result_b)):\n",
    "        print('a: ', result_a[i][0][0], result_a[i][0][1])\n",
    "        print('b: ', result_b[j][0][0], result_b[j][0][1])\n",
    "        diff_x.append(abs(result_a[i][0][0] - result_b[j][0][0]))\n",
    "        diff_y.append(abs(result_a[i][0][1] - result_b[j][0][1]))\n",
    "    \n",
    "    if min(diff_x) <= min(diff_y):\n",
    "        idx = diff_x.index(min(diff_x))\n",
    "    else:\n",
    "        idx = diff_y.index(min(diff_y))\n",
    "    print(diff_x)\n",
    "    print(diff_y)\n",
    "    print(i, idx)\n",
    "    \n",
    "    if idx != i:\n",
    "        result_b[i], result_b[idx] = result_b[idx], result_b[i]"
   ]
  },
  {
   "cell_type": "code",
   "execution_count": 115,
   "metadata": {},
   "outputs": [
    {
     "data": {
      "text/plain": [
       "{0: [(676.5, 731.5), 319, 245, 1034, 1218],\n",
       " 1: [(1373.5, 1321.5), 592, 483, 2155, 2160]}"
      ]
     },
     "execution_count": 115,
     "metadata": {},
     "output_type": "execute_result"
    }
   ],
   "source": [
    "result_a"
   ]
  },
  {
   "cell_type": "code",
   "execution_count": 116,
   "metadata": {},
   "outputs": [
    {
     "data": {
      "text/plain": [
       "{0: [(715.5, 748.5), 304, 264, 1127, 1233],\n",
       " 1: [(1388.5, 1314.0), 550, 468, 2227, 2160]}"
      ]
     },
     "execution_count": 116,
     "metadata": {},
     "output_type": "execute_result"
    }
   ],
   "source": [
    "result_b"
   ]
  },
  {
   "cell_type": "code",
   "execution_count": 123,
   "metadata": {},
   "outputs": [],
   "source": [
    "#for i in range(len(result_a)):\n",
    "box_a = result_a[0][1:]\n",
    "box_b = result_b[0][1:]"
   ]
  },
  {
   "cell_type": "code",
   "execution_count": 147,
   "metadata": {},
   "outputs": [
    {
     "name": "stdout",
     "output_type": "stream",
     "text": [
      "[319, 245, 1034, 1218]\n",
      "[304, 264, 1127, 1233]\n"
     ]
    }
   ],
   "source": [
    "print(box_a)\n",
    "print(box_b)"
   ]
  },
  {
   "cell_type": "code",
   "execution_count": 141,
   "metadata": {},
   "outputs": [],
   "source": [
    "def bb_intersection_over_union(boxA, boxB):\n",
    "    \n",
    "    xA = int(max(boxA[2],boxB[2]))  # x max\n",
    "    yA = int(max(boxA[3],boxB[3]))  # y max\n",
    "    xB = int(min(boxA[0],boxB[0]))  # x min\n",
    "    yB = int(min(boxA[1],boxB[1]))  # y min\n",
    "    \n",
    "    \n",
    "    \n",
    "    \n",
    "    #interArea = (max(abs(xB - xA),0)) * (max(abs(yB - yA ),0))\n",
    "    interArea = (max(abs(xA - xB),0)) * (max(abs(yA - yB ),0))\n",
    "    #interArea = (max(0, xB - xA + 1) * (max(0, yB - yA + 1))\n",
    "    #if interArea == 0:\n",
    "      #  return 0\n",
    "    # compute the area of both the prediction and ground-truth\n",
    "    # rectangles\n",
    "    boxAArea = abs(((int(boxA[0])) - int(boxA[2])) * ((int(boxA[1]) - int(boxA[3]))))\n",
    "    #boxBArea = abs(((int(boxB[0])) - int(boxB[2])) * ((int(boxB[1]) - int(boxB[3]))))\n",
    "    \n",
    "    #boxAArea = (xA - xB) * (yA - yB)\n",
    "    #boxBArea = abs(((int(boxB[0])) - int(boxB[2])) * ((int(boxB[1]) - int(boxB[3]))))\n",
    "    boxBArea = ((int(boxB[0])) - int(boxB[2])) * ((int(boxB[1]) - int(boxB[3])))\n",
    "    \n",
    "    #boxAArea = ((int(boxA[0][0]) - int(boxA[0][2])) +1) * ((int(boxA[0][1]) - int(boxA[0][3])+1))\n",
    "    # compute the intersection over union by taking the intersection\n",
    "    # area and dividing it by the sum of prediction + ground-truth\n",
    "    # areas - the interesection area\n",
    "    iou = interArea / float(boxAArea + boxBArea - interArea)\n",
    "\n",
    "    # return the intersection over union value\n",
    "    return iou, interArea, boxBArea, boxAArea"
   ]
  },
  {
   "cell_type": "code",
   "execution_count": 142,
   "metadata": {},
   "outputs": [
    {
     "data": {
      "text/plain": [
       "(1.1956686047366547, 813124, 797487, 695695)"
      ]
     },
     "execution_count": 142,
     "metadata": {},
     "output_type": "execute_result"
    }
   ],
   "source": [
    "bb_intersection_over_union(box_a,box_b)"
   ]
  },
  {
   "cell_type": "code",
   "execution_count": 143,
   "metadata": {},
   "outputs": [
    {
     "data": {
      "text/plain": [
       "[319, 245, 1034, 1218]"
      ]
     },
     "execution_count": 143,
     "metadata": {},
     "output_type": "execute_result"
    }
   ],
   "source": [
    "box_a"
   ]
  },
  {
   "cell_type": "code",
   "execution_count": 144,
   "metadata": {},
   "outputs": [
    {
     "data": {
      "text/plain": [
       "[304, 264, 1127, 1233]"
      ]
     },
     "execution_count": 144,
     "metadata": {},
     "output_type": "execute_result"
    }
   ],
   "source": [
    "box_b"
   ]
  },
  {
   "cell_type": "code",
   "execution_count": null,
   "metadata": {},
   "outputs": [],
   "source": []
  },
  {
   "cell_type": "code",
   "execution_count": 188,
   "metadata": {},
   "outputs": [
    {
     "data": {
      "text/plain": [
       "[319, 264, 1034, 1218]"
      ]
     },
     "execution_count": 188,
     "metadata": {},
     "output_type": "execute_result"
    }
   ],
   "source": [
    "list_x = [box_a[0],box_a[2],box_b[0],box_b[2]]\n",
    "list_y = [box_a[1],box_a[3],box_b[1],box_b[3]]\n",
    "list_x.sort()\n",
    "list_y.sort()\n",
    "\n",
    "list_x = list_x[1:3]\n",
    "list_y = list_y[1:3]\n",
    "\n",
    "inter_box = [list_x[0],list_y[0],list_x[1],list_y[1]]\n",
    "\n",
    "inter_area = (inter_box[2] - inter_box[0]) * (inter_box[3] - inter_box[1])\n",
    "boxA_area = (box_a[2] - box_a[0]) * (box_a[3] - box_a[1])\n",
    "boxB_area = (box_b[2] - box_b[0]) * (box_b[3] - box_b[1])\n",
    "\n",
    "iou = interArea / float(boxAArea + boxBArea - interArea)\n",
    "\n",
    "inter_box\n"
   ]
  },
  {
   "cell_type": "code",
   "execution_count": 189,
   "metadata": {},
   "outputs": [
    {
     "data": {
      "text/plain": [
       "682110"
      ]
     },
     "execution_count": 189,
     "metadata": {},
     "output_type": "execute_result"
    }
   ],
   "source": [
    "inter_area = (inter_box[2] - inter_box[0]) * (inter_box[3] - inter_box[1])\n",
    "inter_area"
   ]
  },
  {
   "cell_type": "code",
   "execution_count": 190,
   "metadata": {},
   "outputs": [],
   "source": [
    "boxA_area = (box_a[2] - box_a[0]) * (box_a[3] - box_a[1])\n",
    "boxB_area = (box_b[2] - box_b[0]) * (box_b[3] - box_b[1])"
   ]
  },
  {
   "cell_type": "code",
   "execution_count": 192,
   "metadata": {},
   "outputs": [
    {
     "data": {
      "text/plain": [
       "(695695, 797487, 682110)"
      ]
     },
     "execution_count": 192,
     "metadata": {},
     "output_type": "execute_result"
    }
   ],
   "source": [
    "boxA_area,boxB_area, inter_area"
   ]
  },
  {
   "cell_type": "code",
   "execution_count": null,
   "metadata": {},
   "outputs": [],
   "source": []
  },
  {
   "cell_type": "code",
   "execution_count": null,
   "metadata": {},
   "outputs": [],
   "source": []
  }
 ],
 "metadata": {
  "kernelspec": {
   "display_name": "Python 3",
   "language": "python",
   "name": "python3"
  },
  "language_info": {
   "codemirror_mode": {
    "name": "ipython",
    "version": 3
   },
   "file_extension": ".py",
   "mimetype": "text/x-python",
   "name": "python",
   "nbconvert_exporter": "python",
   "pygments_lexer": "ipython3",
   "version": "3.6.8"
  },
  "toc": {
   "base_numbering": 1,
   "nav_menu": {},
   "number_sections": true,
   "sideBar": true,
   "skip_h1_title": false,
   "title_cell": "Table of Contents",
   "title_sidebar": "Contents",
   "toc_cell": false,
   "toc_position": {},
   "toc_section_display": true,
   "toc_window_display": false
  },
  "varInspector": {
   "cols": {
    "lenName": 16,
    "lenType": 16,
    "lenVar": 40
   },
   "kernels_config": {
    "python": {
     "delete_cmd_postfix": "",
     "delete_cmd_prefix": "del ",
     "library": "var_list.py",
     "varRefreshCmd": "print(var_dic_list())"
    },
    "r": {
     "delete_cmd_postfix": ") ",
     "delete_cmd_prefix": "rm(",
     "library": "var_list.r",
     "varRefreshCmd": "cat(var_dic_list()) "
    }
   },
   "types_to_exclude": [
    "module",
    "function",
    "builtin_function_or_method",
    "instance",
    "_Feature"
   ],
   "window_display": false
  }
 },
 "nbformat": 4,
 "nbformat_minor": 2
}
